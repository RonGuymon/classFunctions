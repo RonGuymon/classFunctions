{
 "cells": [
  {
   "cell_type": "markdown",
   "id": "1f48a0ae-7270-4c92-bff6-06a8c5133525",
   "metadata": {
    "editable": true,
    "slideshow": {
     "slide_type": ""
    },
    "tags": []
   },
   "source": [
    "# Python Tips for Yellowdig, Office Hours, and Live Sessions"
   ]
  },
  {
   "cell_type": "markdown",
   "id": "0eef98c8-d681-4f94-a5d4-b3a935ce474d",
   "metadata": {
    "editable": true,
    "slideshow": {
     "slide_type": ""
    },
    "tags": []
   },
   "source": [
    "## Module 1  \n",
    "1. Resetting a notebook on Coursera (see the refreshCourseraFiles.mp4 video in the ACCY 576 Development folder).\n",
    "2. Pip commands\n",
    "    * `pip list` to see a list of all the python packages and versions that you have installed.\n",
    "    * `pip uninstall moduleName` to uninstall a module.\n",
    "4. `python --version` or `python3 -V` to see the version of python that you're using.\n",
    "5. You can access shell functions using ! in a Jupyter code cell.\n",
    "6. If you have multiple versions of Python running on your machine, use `import sys; print(sys.version)` to see the version that Jupyter is using.\n",
    "    * To update the version of Python that is being used by Jupyter use the following terminal commands:\n",
    "        * `pip3 install ipykernel --upgrade`\n",
    "        * `python3 -m ipykernel install --user`\n",
    "7. Use nbconvert to create html-embed file:\n",
    "    * `jupyter nbconvert --to html --embed-images pathToIpynbFile`\n",
    "8. Export without code chunks\n",
    "    * Install [jupyterlab_nbconvert_nocode](https://pypi.org/project/jupyterlab-nbconvert-nocode/)\n",
    "    * jupyter nbconvert --to html --no-input --execute my_notebook.ipynb\n",
    "9. [Remove code inputs for specific slides](https://stackoverflow.com/questions/67685650/jupyterlab-reveal-js-%E2%86%92-how-to-hide-code-cells)\n",
    "    * Add a remove-input tag to the cells that you don't want to show.\n",
    "    * Manually export the slide using nbconvert, specifying a pre-processor that will remove inputs in cells with given tags:\n",
    "      * `jupyter nbconvert Presentation.ipynb --to slides --no-prompt --TagRemovePreprocessor.remove_input_tags={\\\"remove-input\\\"} --post serve --SlidesExporter.reveal_theme=simple`"
   ]
  },
  {
   "cell_type": "markdown",
   "id": "65158bfd-39a9-408d-8c10-3a53fdf0c7dc",
   "metadata": {
    "editable": true,
    "slideshow": {
     "slide_type": ""
    },
    "tags": []
   },
   "source": [
    "## Module 2  \n",
    "\n",
    "1. Help with functions in Jupyter: tab complete, shift tab when placing cursor in a function.\n",
    "2. Contextual help in Jupyter: from launcher or from Help menu to always see the help.\n",
    "3. Variable explorer in Jupyter: %who and %whos, and bug icon in top right\n",
    "4. Debugging functions.\n",
    "5. Print vs return in functions.\n",
    "6. Commenting out multiple lines of code: CMD + /"
   ]
  },
  {
   "cell_type": "markdown",
   "id": "99237173-5002-452a-b943-d2f063e9d88c",
   "metadata": {},
   "source": [
    "## Module 3 \n",
    "\n",
    "1. Show line numbers in Jupyter: View > show line numbers.\n",
    "2. Stepping through loops.\n",
    "3. Notebooks in Spyder: pip install spyder-notebook."
   ]
  },
  {
   "cell_type": "markdown",
   "id": "59b0bf84-47ef-47f9-ae89-4bcf663a220b",
   "metadata": {},
   "source": [
    "## Module 4\n",
    "\n",
    "1. Method chaining: speeds up code creation and readability.\n",
    "2. Show all rows and columns of a pandas dataframe:\n",
    "    * pd.set_option('display.max_columns', None)\n",
    "    * pd.set_option('display.max_rows', None)\n",
    "    * Run these again with a number in place of \"None\" to show a specified number of rows and columns."
   ]
  },
  {
   "cell_type": "markdown",
   "id": "b0bdbbae-0464-4544-b637-77470de60294",
   "metadata": {},
   "source": [
    "## Module 5\n",
    "1. Showing all rows of a dataframe:\n",
    "2. Referring to adjancent and non-adjacent rows and columns of a dataframe: df.loc[list(range(23,28))+[105],['life_exp', 'year']]"
   ]
  },
  {
   "cell_type": "markdown",
   "id": "8265c74f-03db-4cfd-b9b9-f898d7c4f222",
   "metadata": {},
   "source": [
    "## Module 6 \n",
    "1. show how you can convert a Jupyter file into a reveal.js slide show. This would be good for the final project if you have to present it in a video."
   ]
  },
  {
   "cell_type": "markdown",
   "id": "2730d301-2510-4574-8c57-d5485afce9c7",
   "metadata": {},
   "source": [
    "## Module 8 \n",
    "1. Get a list of tables and the number of columns in a SQLite database: pd.read_sql('PRAGMA table_list;', con). However, this only works for SQLite.\n",
    "2. Get a list of the tables in a sqlite database from Python: pd.read_sql('select name from sqlite_master where type=\"table\";', con)\n",
    "3. Terminal commands\n",
    "    1. Navigate to root directory: `cd ~`\n",
    "4. Command Prompt commands\n",
    "    1. Navigate to root directory: `cd \\`"
   ]
  },
  {
   "cell_type": "markdown",
   "id": "9efa2dce-41ae-4144-b258-b88a75ac5d36",
   "metadata": {},
   "source": [
    "## Other \n",
    "1. If you have a module installed, but you get a ModuleNotFoundError when trying to use that module.\n",
    "    * On a Mac, check to see if you have two versions of python3: Go to applications folder and see if you have two folders, like Python 3.10 and Python 3.11.\n",
    "    * You can remove the version of Python that you don't want, or you can use pip3.10 install statsmodels to install the module for the version that you're using in Jupyter."
   ]
  },
  {
   "cell_type": "markdown",
   "id": "f7d269c8-f947-4b12-85e4-d716423e9a2e",
   "metadata": {
    "editable": true,
    "slideshow": {
     "slide_type": ""
    },
    "tags": []
   },
   "source": [
    "### Installing/Uninstalling Python Windows\n",
    "#### Install \n",
    "1. Download Python from python.org, and then run the executable file for the installer.\n",
    "2. When running the installer, make sure to select, \"Add python.exe to Path\" and then \"Customize installation\". It's not necessary to select \"Use admin privileges when installing py.exe\".\n",
    "3. Make sure that all the boxes for the Optional features are selected.\n",
    "    * Notice that you can also install several other things, they key one is pip.\n",
    "    * IDLE is a simple IDE that we will not really use, so you don't need to select that.\n",
    "    * Py is also useful, but we will not use that as much.\n",
    "    * I will select everything.\n",
    "5. For Advanced Options:\n",
    "    * You can decide if you want to install Python for all users. I will do that.\n",
    "    * I will also keep the next four that are already checked, and then I will install it.\n",
    "6. Setup ws successful\n",
    "    * There's a link for online documentation, which is pretty extensive.\n",
    "    * Key: It says that you can laungh Python by simply using py in the terminal, which is the command prompt\n",
    "6. Once you install Python, start up the command prompt and you should be able to get into the repl using the `py` or `python` commands. Try it out to verify that you have it installed.\n",
    "7. Install Spyder: `pip install spyder`\n",
    "    * Launch spyder in command prompt: `spyder`\n",
    "9. Once you install jupyter, you will not be able to get into pip using the `jupyter lab` command. Instead, you can do one of the following:\n",
    "    * Type `python -m jupyterlab` or\n",
    "    * Navigate to the folder where python is located and then run `jupyter lab`, or\n",
    "    * Change the path in control panel > user accounts > user accounts > change my environment variables > path > and then add the following three paths:\n",
    "        * C:\\Users\\rnguymon\\AppData\\Roaming\\Python\\Python312\\Scripts (This one you can find when installing jupyter, or by installing a module)\n",
    "        * C:\\Users\\rnguymon\\AppData\\Local\\Programs\\Python\\Python312\\\n",
    "        * C:\\Users\\rnguymon\\AppData\\Local\\Programs\\Python\\Python312\\Scripts\n",
    "\n",
    "#### Uninstall \n",
    "1. Open the control panel.\n",
    "2. Find Python in the program list. Click uninstall for the Python program, which will take you to the uninstall manager. Delete Python and the app launcher by right-clicking on them.\n",
    "3. Delete the Python folder from: C:\\Users\\<username>\\AppData\\Local or Roaming\\Programs\\Python312\n",
    "4. Remove the path variables from the environment variables\n",
    "5. Run `python --version` or `python -V` to make sure Python is uninstalled"
   ]
  },
  {
   "cell_type": "markdown",
   "id": "2bd9eeac-bf63-40f1-8b09-1a33369bfe1e",
   "metadata": {},
   "source": [
    "### Installing/Uninstalling Python Mac\n",
    "\n",
    "#### Install \n",
    "1. \n",
    "\n",
    "#### Uninstall \n",
    "1. Use terminal to check the version of python3 that is installed:\n",
    "    * python3 --version\n",
    "2. Use terminal to check if pip is installed, as well as the version:\n",
    "    * pip3 --version\n",
    "3. Check the location of the version of Python that is installed in framework:\n",
    "    * which python3, or\n",
    "    * whereis python3\n",
    "    * They are slightly different, and I'm not sure why\n",
    "4. Go to the installed location of Python in a file explorer window\n",
    "5. Remove the python folder from the framework folder\n",
    "6. Go to applications and remove the version of python from there.\n"
   ]
  },
  {
   "cell_type": "markdown",
   "id": "62679ef6-3a95-4e28-af11-0b578f16e1db",
   "metadata": {
    "editable": true,
    "slideshow": {
     "slide_type": ""
    },
    "tags": []
   },
   "source": [
    "### Scheduling .py files to run \n",
    "\n",
    "First, test out the .py file.\n",
    "* __Windows__: Command prompt `python pathToFile`\n",
    "* __Mac__: Terminal prompt `python3 pathToFile`\n",
    "\n",
    "#### Windows task scheduler \n",
    "1. Open task scheduler\n",
    "2. Create new task\n",
    "3. Actions is where you tell it what to run.\n",
    "    * __Program/script__: You need to find the location of the python.exe file. You can find it in the command prompt using `where py`. If you get multiple, use the one with the highest number. Be sure to put quotation marks around the path if there are spaces. Add \"w\" after \"python\" to prevent the command prompt window from coming up.\n",
    "        *  For example: `\"C:\\Program Files\\Python312\\pythonw.exe\"`\n",
    "    * Set the full name to the .py file with quotation marks, or divid up the file and the path name.\n",
    "4. Set the timing under Triggers.\n",
    "5. Give it a name under General.\n",
    "\n",
    "#### Mac cronjob \n",
    "1. Open terminal\n",
    "2. `crontab -e`\n",
    "3. Set the minute, hour, day of month, month, day of week\n",
    "4. Identify python and the full path name of the file.\n",
    "    * For example: 2 5 * * * python3 C://users/rnguymon/desktop/mytask.py"
   ]
  }
 ],
 "metadata": {
  "kernelspec": {
   "display_name": "Python 3 (ipykernel)",
   "language": "python",
   "name": "python3"
  },
  "language_info": {
   "codemirror_mode": {
    "name": "ipython",
    "version": 3
   },
   "file_extension": ".py",
   "mimetype": "text/x-python",
   "name": "python",
   "nbconvert_exporter": "python",
   "pygments_lexer": "ipython3",
   "version": "3.12.1"
  }
 },
 "nbformat": 4,
 "nbformat_minor": 5
}
